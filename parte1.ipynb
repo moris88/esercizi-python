{
 "cells": [
  {
   "cell_type": "code",
   "execution_count": 24,
   "metadata": {},
   "outputs": [
    {
     "name": "stdout",
     "output_type": "stream",
     "text": [
      "python => test is <class 'bool'>\n"
     ]
    }
   ],
   "source": [
    "test = input('Inserisci qualcosa: ')\n",
    "if test.isdigit():\n",
    "    test = int(test)\n",
    "if test.lower() == \"true\" or test.lower() == \"false\":\n",
    "    test = bool(test)\n",
    "print(f'python => test is {type(test)}')"
   ]
  }
 ],
 "metadata": {
  "kernelspec": {
   "display_name": "Python 3",
   "language": "python",
   "name": "python3"
  },
  "language_info": {
   "codemirror_mode": {
    "name": "ipython",
    "version": 3
   },
   "file_extension": ".py",
   "mimetype": "text/x-python",
   "name": "python",
   "nbconvert_exporter": "python",
   "pygments_lexer": "ipython3",
   "version": "3.12.0"
  }
 },
 "nbformat": 4,
 "nbformat_minor": 2
}
