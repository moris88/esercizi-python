{
 "cells": [
  {
   "cell_type": "code",
   "execution_count": 5,
   "metadata": {
    "collapsed": false
   },
   "outputs": [
    {
     "data": {
      "text/plain": [
       "float"
      ]
     },
     "execution_count": 5,
     "metadata": {},
     "output_type": "execute_result"
    }
   ],
   "source": [
    "a = 3.14\n",
    "\n",
    "'''\n",
    "Boolean\n",
    "'''\n",
    "\n",
    "type(a)\n"
   ]
  },
  {
   "cell_type": "code",
   "execution_count": 13,
   "metadata": {
    "collapsed": false
   },
   "outputs": [
    {
     "data": {
      "text/plain": [
       "False"
      ]
     },
     "execution_count": 13,
     "metadata": {},
     "output_type": "execute_result"
    }
   ],
   "source": [
    "x = ''\n",
    "\n",
    "x = bool(x)\n",
    "type(x)\n",
    "x"
   ]
  },
  {
   "cell_type": "code",
   "execution_count": 23,
   "metadata": {
    "cocalc": {
     "outputs": {
      "0": {
       "name": "input",
       "opts": {
        "password": false,
        "prompt": "Inserisci un numero"
       },
       "output_type": "stream",
       "value": "5"
      }
     }
    },
    "collapsed": false
   },
   "outputs": [
    {
     "name": "stdout",
     "output_type": "stream",
     "text": [
      "Inserisci un numero 5"
     ]
    },
    {
     "name": "stdout",
     "output_type": "stream",
     "text": [
      "Il valore è esterno all'intervallo tra 30 e 40\n"
     ]
    }
   ],
   "source": [
    "x = int(input('Inserisci un numero'))\n",
    "\n",
    "'''\n",
    "<\n",
    ">\n",
    "==\n",
    "<=\n",
    ">=\n",
    "!=\n",
    "'''\n",
    "\n",
    "if x >= 30 and x <= 40:\n",
    "    print('Il valore è compreso tra 30 e 40')\n",
    "    print('Sei stato bravo ad inserire un valore numerico')\n",
    "elif x < 30 or x > 40:\n",
    "    print('Il valore è esterno all\\'intervallo tra 30 e 40')\n",
    "elif not x < 10:\n",
    "    print('Il valore è compreso tra 10 e 30')\n",
    "else:\n",
    "    print('Il valore è minore o uguale a 10')\n",
    "\n",
    "    "
   ]
  },
  {
   "cell_type": "code",
   "execution_count": 24,
   "metadata": {
    "collapsed": false
   },
   "outputs": [
    {
     "data": {
      "text/plain": [
       "True"
      ]
     },
     "execution_count": 24,
     "metadata": {},
     "output_type": "execute_result"
    }
   ],
   "source": [
    " True and True"
   ]
  },
  {
   "cell_type": "code",
   "execution_count": 25,
   "metadata": {
    "collapsed": false
   },
   "outputs": [
    {
     "data": {
      "text/plain": [
       "False"
      ]
     },
     "execution_count": 25,
     "metadata": {},
     "output_type": "execute_result"
    }
   ],
   "source": [
    "True and False"
   ]
  },
  {
   "cell_type": "code",
   "execution_count": 26,
   "metadata": {
    "collapsed": false
   },
   "outputs": [
    {
     "data": {
      "text/plain": [
       "False"
      ]
     },
     "execution_count": 26,
     "metadata": {},
     "output_type": "execute_result"
    }
   ],
   "source": [
    "False and True"
   ]
  },
  {
   "cell_type": "code",
   "execution_count": 27,
   "metadata": {
    "collapsed": false
   },
   "outputs": [
    {
     "data": {
      "text/plain": [
       "False"
      ]
     },
     "execution_count": 27,
     "metadata": {},
     "output_type": "execute_result"
    }
   ],
   "source": [
    "False and False"
   ]
  },
  {
   "cell_type": "code",
   "execution_count": 1,
   "metadata": {
    "collapsed": false
   },
   "outputs": [
    {
     "name": "stdout",
     "output_type": "stream",
     "text": [
      "1\n",
      "2\n",
      "3\n",
      "4\n",
      "5 il numero 5 è il più bello di tutti gli esponenti \n",
      "6\n",
      "7\n",
      "8\n",
      "9\n"
     ]
    }
   ],
   "source": [
    "for i in range(1,10):\n",
    "    if i == 5:\n",
    "        print(i, end=' ')\n",
    "        #print(' ---->>> il numero %s è il più bello di tutti'.format(i))\n",
    "        print('il numero {0} è il più bello di tutti gli esponenti '.format(str(i)))\n",
    "        continue\n",
    "    print(i)\n",
    "    \n"
   ]
  },
  {
   "cell_type": "code",
   "execution_count": 30,
   "metadata": {
    "collapsed": false
   },
   "outputs": [
    {
     "name": "stdout",
     "output_type": "stream",
     "text": [
      "0\n",
      "1\n",
      "2\n",
      "3\n",
      "4\n",
      "5\n",
      "6\n",
      "7\n",
      "8\n",
      "9\n"
     ]
    }
   ],
   "source": [
    "x = 0\n",
    "\n",
    "while x < 10:\n",
    "    print(x)\n",
    "    x += 1\n"
   ]
  },
  {
   "cell_type": "code",
   "execution_count": null,
   "metadata": {
    "collapsed": false
   },
   "outputs": [],
   "source": []
  },
  {
   "cell_type": "code",
   "execution_count": 31,
   "metadata": {
    "collapsed": false
   },
   "outputs": [
    {
     "name": "stdout",
     "output_type": "stream",
     "text": [
      "1\n",
      "2\n",
      "3\n",
      "4\n",
      "5\n"
     ]
    }
   ],
   "source": [
    "x = 0\n",
    "\n",
    "while x < 10:\n",
    "    x += 1\n",
    "    print(x)\n",
    "    if x == 5:\n",
    "        break\n"
   ]
  },
  {
   "cell_type": "code",
   "execution_count": null,
   "metadata": {
    "collapsed": false
   },
   "outputs": [],
   "source": []
  },
  {
   "cell_type": "markdown",
   "metadata": {
    "collapsed": false
   },
   "source": [
    "Write a Python program to convert temperatures to and from Celsius and Fahrenheit.\n",
    "\n",
    "Python: Centigrade and Fahrenheit Temperatures :\n",
    "\n",
    "The centigrade scale, which is also called the Celsius scale, was developed by Swedish astronomer Andres Celsius. In the centigrade scale, water freezes at 0 degrees and boils at 100 degrees. \n",
    "\n",
    "The centigrade to Fahrenheit conversion formula is:\n",
    "\n",
    "Fahrenheit and centigrade are two temperature scales in use today. The Fahrenheit scale was developed by the German physicist Daniel Gabriel Fahrenheit . In the Fahrenheit scale, water freezes at 32 degrees and boils at 212 degrees.\n",
    "\n"
   ]
  },
  {
   "cell_type": "code",
   "execution_count": null,
   "metadata": {
    "collapsed": false
   },
   "outputs": [],
   "source": [
    "C = (5/9) * (F - 32)"
   ]
  },
  {
   "cell_type": "markdown",
   "metadata": {
    "collapsed": false
   },
   "source": [
    "where F is the Fahrenheit temperature. You can also use this Web page to convert Fahrenheit temperatures to centigrade. Just enter a Fahrenheit temperature in the text box below, then click on the Convert button.\n",
    "\n"
   ]
  },
  {
   "cell_type": "code",
   "execution_count": 51,
   "metadata": {
    "cocalc": {
     "outputs": {
      "0": {
       "name": "input",
       "opts": {
        "password": false,
        "prompt": "inserisci la temperatura"
       },
       "output_type": "stream",
       "value": "80"
      }
     }
    },
    "collapsed": false
   },
   "outputs": [
    {
     "name": "stdout",
     "output_type": "stream",
     "text": [
      "inserisci la temperatura 80"
     ]
    },
    {
     "name": "stdout",
     "output_type": "stream",
     "text": [
      "26\n"
     ]
    }
   ],
   "source": [
    "F = int (input (\"inserisci la temperatura\"))\n",
    "C = int ((5/9) * (F - 32))\n",
    "print (C)\n"
   ]
  },
  {
   "cell_type": "markdown",
   "metadata": {
    "collapsed": false
   },
   "source": [
    "<span style='font-size:large'>Write a Python program to find those numbers which are divisible by 7 and multiples of 5, between 1500 and 2700 \\(both included\\).</span>\n",
    "\n"
   ]
  },
  {
   "cell_type": "code",
   "execution_count": 53,
   "metadata": {
    "collapsed": false
   },
   "outputs": [
    {
     "name": "stdout",
     "output_type": "stream",
     "text": [
      "Il numero '1505' è sia divisibile per 7 che un multiplo di 5\n",
      "Il numero '1540' è sia divisibile per 7 che un multiplo di 5\n",
      "Il numero '1575' è sia divisibile per 7 che un multiplo di 5\n",
      "Il numero '1610' è sia divisibile per 7 che un multiplo di 5\n",
      "Il numero '1645' è sia divisibile per 7 che un multiplo di 5\n",
      "Il numero '1680' è sia divisibile per 7 che un multiplo di 5\n",
      "Il numero '1715' è sia divisibile per 7 che un multiplo di 5\n",
      "Il numero '1750' è sia divisibile per 7 che un multiplo di 5\n",
      "Il numero '1785' è sia divisibile per 7 che un multiplo di 5\n",
      "Il numero '1820' è sia divisibile per 7 che un multiplo di 5\n",
      "Il numero '1855' è sia divisibile per 7 che un multiplo di 5\n",
      "Il numero '1890' è sia divisibile per 7 che un multiplo di 5\n",
      "Il numero '1925' è sia divisibile per 7 che un multiplo di 5\n",
      "Il numero '1960' è sia divisibile per 7 che un multiplo di 5\n",
      "Il numero '1995' è sia divisibile per 7 che un multiplo di 5\n",
      "Il numero '2030' è sia divisibile per 7 che un multiplo di 5\n",
      "Il numero '2065' è sia divisibile per 7 che un multiplo di 5\n",
      "Il numero '2100' è sia divisibile per 7 che un multiplo di 5\n",
      "Il numero '2135' è sia divisibile per 7 che un multiplo di 5\n",
      "Il numero '2170' è sia divisibile per 7 che un multiplo di 5\n",
      "Il numero '2205' è sia divisibile per 7 che un multiplo di 5\n",
      "Il numero '2240' è sia divisibile per 7 che un multiplo di 5\n",
      "Il numero '2275' è sia divisibile per 7 che un multiplo di 5\n",
      "Il numero '2310' è sia divisibile per 7 che un multiplo di 5\n",
      "Il numero '2345' è sia divisibile per 7 che un multiplo di 5\n",
      "Il numero '2380' è sia divisibile per 7 che un multiplo di 5\n",
      "Il numero '2415' è sia divisibile per 7 che un multiplo di 5\n",
      "Il numero '2450' è sia divisibile per 7 che un multiplo di 5\n",
      "Il numero '2485' è sia divisibile per 7 che un multiplo di 5\n",
      "Il numero '2520' è sia divisibile per 7 che un multiplo di 5\n",
      "Il numero '2555' è sia divisibile per 7 che un multiplo di 5\n",
      "Il numero '2590' è sia divisibile per 7 che un multiplo di 5\n",
      "Il numero '2625' è sia divisibile per 7 che un multiplo di 5\n",
      "Il numero '2660' è sia divisibile per 7 che un multiplo di 5\n",
      "Il numero '2695' è sia divisibile per 7 che un multiplo di 5\n"
     ]
    }
   ],
   "source": [
    "numbers = range(1500,2701)\n",
    "for number in numbers:\n",
    "    if (number%7==0) and number % 5 == 0:\n",
    "        print(f'Il numero \\'{number}\\' è sia divisibile per 7 che un multiplo di 5')\n",
    "        "
   ]
  },
  {
   "cell_type": "markdown",
   "metadata": {
    "collapsed": false
   },
   "source": [
    "Write a Python program to construct the following pattern, using a nested for loop.\n",
    "\n",
    "\\* \n",
    "\n",
    "\\* \\* \n",
    "\n",
    "\\* \\* \\* \n",
    "\n",
    "\\* \\* \\* \\* \n",
    "\n",
    "\\* \\* \\* \\* \\* \n",
    "\n",
    "\\* \\* \\* \\* \n",
    "\n",
    "\\* \\* \\* \n",
    "\n",
    "\\* \\* \n",
    "\n",
    "\\*\n",
    "\n"
   ]
  },
  {
   "cell_type": "code",
   "execution_count": 2,
   "metadata": {
    "collapsed": false
   },
   "outputs": [
    {
     "name": "stdout",
     "output_type": "stream",
     "text": [
      "* \n",
      "* * \n",
      "* * * \n",
      "* * * * \n",
      "* * * * * \n",
      "* * * * \n",
      "* * * \n",
      "* * \n",
      "* \n"
     ]
    }
   ],
   "source": [
    "rows = 5\n",
    "\n",
    "for i in range(rows):\n",
    "    for j in range(i + 1):\n",
    "        print(\"*\", end=\" \")\n",
    "    print()\n",
    "\n",
    "for i in range(rows - 1, 0, -1):\n",
    "    for j in range(i):\n",
    "        print(\"*\", end=\" \")\n",
    "    print()\n",
    "\n"
   ]
  }
 ],
 "metadata": {
  "kernelspec": {
   "display_name": "Python 3",
   "language": "python",
   "name": "python3"
  },
  "language_info": {
   "codemirror_mode": {
    "name": "ipython",
    "version": 3
   },
   "file_extension": ".py",
   "mimetype": "text/x-python",
   "name": "python",
   "nbconvert_exporter": "python",
   "pygments_lexer": "ipython3",
   "version": "3.12.0"
  }
 },
 "nbformat": 4,
 "nbformat_minor": 4
}
